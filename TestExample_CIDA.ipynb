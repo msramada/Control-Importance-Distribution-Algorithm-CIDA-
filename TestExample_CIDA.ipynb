{
 "cells": [
  {
   "cell_type": "code",
   "execution_count": 1,
   "id": "d891131c",
   "metadata": {},
   "outputs": [],
   "source": [
    "import numpy as np\n",
    "import random\n",
    "import matplotlib.pyplot as plt\n",
    "from matplotlib import style\n",
    "from matplotlib import style\n",
    "plt.style.use('bmh')\n",
    "plt.rc('xtick', labelsize=7) #fontsize of the x tick labels\n",
    "plt.rc('ytick', labelsize=7) #fontsize of the y tick labels\n",
    "import matplotlib.colors as colors\n",
    "import control\n",
    "from IPython import display\n",
    "from collections import deque\n",
    "import pickle\n",
    "from Utilities.ParticleFilter import *\n",
    "from Utilities.Dynamics_Constraints_Controller import *\n",
    "from Utilities.cida import CIDA\n",
    "import random\n",
    "from scipy.linalg import sqrtm\n",
    "\n",
    "saveFigs = True\n",
    "FigWidth = 2.5\n",
    "FigHeight = 2.5"
   ]
  },
  {
   "cell_type": "code",
   "execution_count": 2,
   "id": "4c8eb224",
   "metadata": {},
   "outputs": [
    {
     "data": {
      "text/plain": [
       "-3.1315926535897933"
      ]
     },
     "execution_count": 2,
     "metadata": {},
     "output_type": "execute_result"
    }
   ],
   "source": [
    "theta = -np.pi+0.01\n",
    "np.arctan2(np.sin(theta), np.cos(theta))"
   ]
  },
  {
   "cell_type": "code",
   "execution_count": 3,
   "id": "dd977bc4",
   "metadata": {},
   "outputs": [],
   "source": [
    "x0 = np.random.randn(rx,1)\n",
    "x0[0] = 10\n",
    "x0[2] = -np.pi/2\n",
    "Cov0 = 0.1 * np.diag(np.ones(rx,))\n",
    "num_particles = 1000\n",
    "Pred_Horizon_N = 10\n",
    "number_of_simulations = 80\n",
    "LangrangeMultp = 1000\n",
    "cida =  CIDA(x0, Cov0, num_particles, stateDynamics, measurementDynamics, Q, R,\n",
    "                 Pred_Horizon_N, Controller, number_of_simulations, CostAndConstraints, LangrangeMultp)\n",
    "cida.initialize(x0, Cov0)"
   ]
  },
  {
   "attachments": {},
   "cell_type": "markdown",
   "id": "937434f7",
   "metadata": {},
   "source": [
    "RandomSearch method returns the desired control input, according to CIDA\n"
   ]
  },
  {
   "cell_type": "code",
   "execution_count": 4,
   "id": "815e3209",
   "metadata": {},
   "outputs": [
    {
     "data": {
      "text/plain": [
       "array([3.14159265])"
      ]
     },
     "execution_count": 4,
     "metadata": {},
     "output_type": "execute_result"
    }
   ],
   "source": [
    "cida.RandomSearch()"
   ]
  },
  {
   "attachments": {},
   "cell_type": "markdown",
   "id": "778437cf",
   "metadata": {},
   "source": [
    "sampleAverage is an inherited method that returns the state conditional mean of the particle filter"
   ]
  },
  {
   "cell_type": "code",
   "execution_count": 5,
   "id": "95032eff",
   "metadata": {},
   "outputs": [
    {
     "data": {
      "text/plain": [
       "array([[ 9.97542298],\n",
       "       [ 0.37618347],\n",
       "       [-1.57300049]])"
      ]
     },
     "execution_count": 5,
     "metadata": {},
     "output_type": "execute_result"
    }
   ],
   "source": [
    "cida.sampleAverage()"
   ]
  },
  {
   "cell_type": "code",
   "execution_count": 6,
   "id": "b3f74c2c",
   "metadata": {},
   "outputs": [],
   "source": [
    "# A function to prepare the figure, its size, and plot the constraints set.\n",
    "\n",
    "def Constraintsplot(ax):\n",
    "    xc = np.linspace(-10,10,100)\n",
    "    yc1 = np.sqrt(10**2-xc**2)\n",
    "    yc2 = -np.sqrt(10**2-xc**2)\n",
    "    ax.set_xlabel('$x\\,\\, (m)$', fontsize=9)\n",
    "    ax.set_ylabel('$y\\,\\, (m)$', fontsize=9)\n",
    "    ax.plot(xc,yc1,'r')\n",
    "    ax.plot(xc,yc2,'r')\n",
    "    ax.axis('equal')\n",
    "    circle1 = plt.Circle((xs[0], ys[0]), rs[0], facecolor = 'blue')\n",
    "    circle2 = plt.Circle((xs[1], ys[1]), rs[1], color='blue')\n",
    "    circle3 = plt.Circle((xs[2], ys[2]), rs[2], color='blue')\n",
    "    ax.add_patch(circle1)\n",
    "    ax.add_patch(circle2)\n",
    "    ax.add_patch(circle3)\n",
    "    pass"
   ]
  },
  {
   "cell_type": "code",
   "execution_count": 7,
   "id": "86cc03e3",
   "metadata": {},
   "outputs": [
    {
     "name": "stderr",
     "output_type": "stream",
     "text": [
      "/var/folders/54/w5632h_d2qdffk_vmkbgn34m0000gn/T/ipykernel_32070/811942719.py:21: UserWarning: Matplotlib is currently using module://matplotlib_inline.backend_inline, which is a non-GUI backend, so cannot show the figure.\n",
      "  fig.show()\n"
     ]
    },
    {
     "data": {
      "image/png": "[encoded data removed]",
      "text/plain": [
       "<Figure size 250x250 with 1 Axes>"
      ]
     },
     "metadata": {},
     "output_type": "display_data"
    }
   ],
   "source": [
    "fig, ax= plt.subplots(figsize=(FigWidth,FigHeight))\n",
    "Constraintsplot(ax)\n",
    "T=100\n",
    "cida.initialize(x0, Cov0)\n",
    "x_true = cida.particles[:,random.sample(range(0, cida.num_particles), 1)]\n",
    "AlphaAchieved_CE = np.zeros((T+1,))\n",
    "#ax.set_xlim((-15,15))\n",
    "#ax.set_ylim((-15,15))\n",
    "for k in range(T):\n",
    "    AlphaAchieved_CE[k] = cida.ViolationProb()\n",
    "    uSharp = Controller(cida.sampleAverage())\n",
    "    ax.plot(cida.particles[0,:],cida.particles[1,:],'o', markersize=1.1,color=list(colors.cnames)[k%2+12], zorder=2)\n",
    "    y = measurementDynamics(x_true, uSharp) + sqrtm(R).real @ np.random.randn(ry, 1)\n",
    "    cida.Apply_PF(uSharp, y)\n",
    "    x_true = stateDynamics(x_true, uSharp, sqrtm(Q).real @ np.random.randn(rx,))\n",
    "\n",
    "fig.savefig('Figures/CBF_and_CE.pdf',bbox_inches =\"tight\")\n",
    "\n",
    "AlphaAchieved_CE[T]=cida.ViolationProb()   \n",
    "\n",
    "fig.show()\n",
    "\n",
    "\n"
   ]
  },
  {
   "cell_type": "code",
   "execution_count": 8,
   "id": "0f48ca4e",
   "metadata": {
    "scrolled": false
   },
   "outputs": [
    {
     "name": "stdout",
     "output_type": "stream",
     "text": [
      "0\n",
      "1\n",
      "2\n",
      "3\n",
      "4\n",
      "5\n",
      "6\n",
      "7\n",
      "8\n",
      "9\n",
      "10\n",
      "11\n",
      "12\n",
      "13\n",
      "14\n",
      "15\n",
      "16\n",
      "17\n",
      "18\n",
      "19\n",
      "20\n",
      "21\n",
      "22\n",
      "23\n",
      "24\n",
      "25\n",
      "26\n",
      "27\n",
      "28\n",
      "29\n",
      "30\n",
      "31\n",
      "32\n",
      "33\n",
      "34\n",
      "35\n",
      "36\n",
      "37\n",
      "38\n",
      "39\n",
      "40\n",
      "41\n",
      "42\n",
      "43\n",
      "44\n",
      "45\n",
      "46\n",
      "47\n",
      "48\n",
      "49\n",
      "50\n",
      "51\n",
      "52\n",
      "53\n",
      "54\n",
      "55\n",
      "56\n",
      "57\n",
      "58\n",
      "59\n",
      "60\n",
      "61\n",
      "62\n",
      "63\n",
      "64\n",
      "65\n",
      "66\n",
      "67\n",
      "68\n",
      "69\n",
      "70\n",
      "71\n",
      "72\n",
      "73\n",
      "74\n",
      "75\n",
      "76\n",
      "77\n",
      "78\n",
      "79\n",
      "80\n",
      "81\n",
      "82\n",
      "83\n",
      "84\n",
      "85\n",
      "86\n",
      "87\n",
      "88\n",
      "89\n",
      "90\n",
      "91\n",
      "92\n",
      "93\n",
      "94\n",
      "95\n",
      "96\n",
      "97\n",
      "98\n",
      "99\n"
     ]
    },
    {
     "data": {
      "image/png": "[encoded data removed]",
      "text/plain": [
       "<Figure size 250x250 with 1 Axes>"
      ]
     },
     "metadata": {},
     "output_type": "display_data"
    }
   ],
   "source": [
    "fig, ax= plt.subplots(figsize=(FigWidth,FigHeight))\n",
    "Constraintsplot(ax)\n",
    "cida.initialize(x0, Cov0)\n",
    "x_true = cida.particles[:,random.sample(range(0, cida.num_particles), 1)]\n",
    "AlphaAchieved_cida = np.zeros((T+1,))\n",
    "\n",
    "for k in range(T):\n",
    "    print(k)\n",
    "    AlphaAchieved_cida[k] = cida.ViolationProb()\n",
    "    uSharp = cida.RandomSearch()\n",
    "    ax.plot(cida.particles[0,:],cida.particles[1,:],'o', markersize=1.1,color=list(colors.cnames)[k%2 +30], zorder=2)\n",
    "    y = measurementDynamics(x_true, uSharp) + sqrtm(R).real @ np.random.randn(ry, 1)\n",
    "    cida.Apply_PF(uSharp, y)\n",
    "    x_true = stateDynamics(x_true, uSharp, sqrtm(Q).real @ np.random.randn(rx,))\n",
    "\n",
    "plt.savefig('Figures/CBF_and_CIDAR.pdf',bbox_inches =\"tight\")\n",
    "\n",
    "AlphaAchieved_cida[T]=cida.ViolationProb()   \n",
    "\n",
    "plt.show()\n",
    "\n",
    "\n"
   ]
  },
  {
   "cell_type": "code",
   "execution_count": 11,
   "id": "9e9c0113",
   "metadata": {},
   "outputs": [
    {
     "data": {
      "image/png": "[encoded data removed]",
      "text/plain": [
       "<Figure size 300x150 with 1 Axes>"
      ]
     },
     "metadata": {},
     "output_type": "display_data"
    }
   ],
   "source": [
    "# Generating the violation rates figure\n",
    "plt.style.use('bmh')\n",
    "plt.figure(figsize=(3.0,1.5))\n",
    "plt.plot(AlphaAchieved_CE)\n",
    "plt.plot(AlphaAchieved_cida)\n",
    "plt.rc('xtick', labelsize=7) #fontsize of the x tick labels\n",
    "plt.rc('ytick', labelsize=7) #fontsize of the y tick labels\n",
    "\n",
    "plt.xlabel('$k$', fontsize=8)  \n",
    "plt.ylabel('safety violation rate', fontsize=8) \n",
    "plt.savefig('Figures/violationRates.pdf',bbox_inches =\"tight\")\n",
    "\n",
    "plt.show()"
   ]
  }
 ],
 "metadata": {
  "kernelspec": {
   "display_name": "base",
   "language": "python",
   "name": "python3"
  },
  "language_info": {
   "codemirror_mode": {
    "name": "ipython",
    "version": 3
   },
   "file_extension": ".py",
   "mimetype": "text/x-python",
   "name": "python",
   "nbconvert_exporter": "python",
   "pygments_lexer": "ipython3",
   "version": "3.11.3"
  },
  "vscode": {
   "interpreter": {
    "hash": "463316916d8872a2236651019aa66390529406581b35dada557f41d2b033e2aa"
   }
  }
 },
 "nbformat": 4,
 "nbformat_minor": 5
}
