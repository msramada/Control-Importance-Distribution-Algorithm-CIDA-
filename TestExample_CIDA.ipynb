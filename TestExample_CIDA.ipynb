{
 "cells": [
  {
   "cell_type": "code",
   "execution_count": 8,
   "id": "d891131c",
   "metadata": {},
   "outputs": [],
   "source": [
    "import numpy as np\n",
    "import random\n",
    "import matplotlib.pyplot as plt\n",
    "from matplotlib import style\n",
    "from matplotlib import style\n",
    "plt.style.use('bmh')\n",
    "plt.rc('xtick', labelsize=7) #fontsize of the x tick labels\n",
    "plt.rc('ytick', labelsize=7) #fontsize of the y tick labels\n",
    "import matplotlib.colors as colors\n",
    "import control\n",
    "from collections import deque\n",
    "import pickle\n",
    "from Utilities.ParticleFilter import *\n",
    "from Utilities.Dynamics_Constraints_Controller import *\n",
    "from Utilities.cida import CIDA\n",
    "import random\n",
    "from scipy.linalg import sqrtm\n",
    "\n",
    "saveFigs = True\n",
    "FigWidth = 3.0\n",
    "FigHeight = 1.5"
   ]
  },
  {
   "cell_type": "code",
   "execution_count": 9,
   "id": "dd977bc4",
   "metadata": {},
   "outputs": [],
   "source": [
    "x0 = np.random.randn(rx,1)\n",
    "x0[0] = 10\n",
    "Cov0 = 0.5 * np.diag(np.ones(rx,))\n",
    "num_particles = 200\n",
    "Pred_Horizon_N = 5\n",
    "number_of_simulations = 50\n",
    "LangrangeMultp = 0.1\n",
    "cida =  CIDA(x0, Cov0, num_particles, stateDynamics, measurementDynamics, Q, R,\n",
    "                 Pred_Horizon_N, Controller, number_of_simulations, CostAndConstraints, LangrangeMultp)\n",
    "cida.initialize(x0, Cov0)"
   ]
  },
  {
   "attachments": {},
   "cell_type": "markdown",
   "id": "937434f7",
   "metadata": {},
   "source": [
    "RandomSearch method returns the desired control input, according to CIDA\n"
   ]
  },
  {
   "cell_type": "code",
   "execution_count": 10,
   "id": "815e3209",
   "metadata": {},
   "outputs": [
    {
     "data": {
      "text/plain": [
       "array([0.78539816])"
      ]
     },
     "execution_count": 10,
     "metadata": {},
     "output_type": "execute_result"
    }
   ],
   "source": [
    "cida.RandomSearch()"
   ]
  },
  {
   "attachments": {},
   "cell_type": "markdown",
   "id": "778437cf",
   "metadata": {},
   "source": [
    "sampleAverage is an inherited method that returns the state conditional mean of the particle filter"
   ]
  },
  {
   "cell_type": "code",
   "execution_count": 11,
   "id": "95032eff",
   "metadata": {},
   "outputs": [
    {
     "data": {
      "text/plain": [
       "array([[10.0195898 ],\n",
       "       [ 0.98119334],\n",
       "       [-0.18887847]])"
      ]
     },
     "execution_count": 11,
     "metadata": {},
     "output_type": "execute_result"
    }
   ],
   "source": [
    "cida.sampleAverage()"
   ]
  },
  {
   "cell_type": "code",
   "execution_count": 12,
   "id": "b53d8eda",
   "metadata": {},
   "outputs": [
    {
     "data": {
      "text/plain": [
       "array([0.1193203 , 0.93613385, 0.08137406, 0.15289363, 0.69337804,\n",
       "       0.        ])"
      ]
     },
     "execution_count": 12,
     "metadata": {},
     "output_type": "execute_result"
    }
   ],
   "source": [
    "A = np.random.rand(5,)\n",
    "C = np.random.rand(5,1)\n",
    "np.append(A, False)"
   ]
  },
  {
   "cell_type": "code",
   "execution_count": 13,
   "id": "b3f74c2c",
   "metadata": {},
   "outputs": [],
   "source": [
    "# A function to prepare the figure, its size, and plot the constraints set.\n",
    "\n",
    "def Constraintsplot(ax):\n",
    "    xc = np.linspace(-10,10,100)\n",
    "    yc1 = np.sqrt(10**2-xc**2)\n",
    "    yc2 = -np.sqrt(10**2-xc**2)\n",
    "    ax.set_xlabel('$x\\,\\, (m)$', fontsize=9)\n",
    "    ax.set_ylabel('$y\\,\\, (m)$', fontsize=9)\n",
    "    ax.plot(xc,yc1,'r')\n",
    "    ax.plot(xc,yc2,'r')\n",
    "    ax.axis('equal')\n",
    "    circle1 = plt.Circle((xs[0], ys[0]), rs[0], facecolor = 'blue')\n",
    "    circle2 = plt.Circle((xs[1], ys[1]), rs[1], color='blue')\n",
    "    circle3 = plt.Circle((xs[2], ys[2]), rs[2], color='blue')\n",
    "    ax.add_patch(circle1)\n",
    "    ax.add_patch(circle2)\n",
    "    ax.add_patch(circle3)\n",
    "    pass"
   ]
  },
  {
   "cell_type": "code",
   "execution_count": 14,
   "id": "0f48ca4e",
   "metadata": {
    "scrolled": false
   },
   "outputs": [
    {
     "name": "stdout",
     "output_type": "stream",
     "text": [
      "0\n",
      "[[9.97807302]\n",
      " [1.46370019]]\n",
      "1\n",
      "[[10.34656294]\n",
      " [ 0.60431711]]\n",
      "2\n",
      "[[10.18033754]\n",
      " [-0.69995228]]\n",
      "3\n",
      "[[11.66465773]\n",
      " [-1.45738   ]]\n",
      "4\n",
      "[[11.87614796]\n",
      " [-2.93608691]]\n",
      "5\n",
      "[[11.65238573]\n",
      " [-3.43539869]]\n",
      "6\n",
      "[[12.85223404]\n",
      " [-2.99216276]]\n",
      "7\n",
      "[[13.99846383]\n",
      " [-5.036615  ]]\n",
      "8\n",
      "[[13.51967467]\n",
      " [-5.40871749]]\n",
      "9\n",
      "[[15.15927284]\n",
      " [-5.84126402]]\n",
      "10\n",
      "[[16.54687936]\n",
      " [-7.07346839]]\n",
      "11\n",
      "[[17.32279477]\n",
      " [-8.05043572]]\n",
      "12\n",
      "[[18.18694   ]\n",
      " [-6.16867182]]\n",
      "13\n",
      "[[19.65727747]\n",
      " [-6.37567464]]\n",
      "14\n",
      "[[18.74835842]\n",
      " [-7.11583009]]\n",
      "15\n",
      "[[21.14107946]\n",
      " [-7.38002591]]\n",
      "16\n"
     ]
    },
    {
     "ename": "KeyboardInterrupt",
     "evalue": "",
     "output_type": "error",
     "traceback": [
      "\u001b[0;31m---------------------------------------------------------------------------\u001b[0m",
      "\u001b[0;31mKeyboardInterrupt\u001b[0m                         Traceback (most recent call last)",
      "Cell \u001b[0;32mIn[14], line 12\u001b[0m\n\u001b[1;32m     10\u001b[0m \u001b[39mprint\u001b[39m(k)\n\u001b[1;32m     11\u001b[0m AlphaAchieved_cida[\u001b[39m0\u001b[39m] \u001b[39m=\u001b[39m cida\u001b[39m.\u001b[39mViolationProb()\n\u001b[0;32m---> 12\u001b[0m uSharp \u001b[39m=\u001b[39m cida\u001b[39m.\u001b[39;49mRandomSearch()\n\u001b[1;32m     13\u001b[0m ax\u001b[39m.\u001b[39mplot(cida\u001b[39m.\u001b[39mparticles[\u001b[39m0\u001b[39m,:],cida\u001b[39m.\u001b[39mparticles[\u001b[39m1\u001b[39m,:],\u001b[39m'\u001b[39m\u001b[39mo\u001b[39m\u001b[39m'\u001b[39m, markersize\u001b[39m=\u001b[39m\u001b[39m1.1\u001b[39m,color\u001b[39m=\u001b[39m\u001b[39mlist\u001b[39m(colors\u001b[39m.\u001b[39mcnames)[k\u001b[39m+\u001b[39m\u001b[39m22\u001b[39m], zorder\u001b[39m=\u001b[39m\u001b[39m2\u001b[39m)\n\u001b[1;32m     14\u001b[0m y \u001b[39m=\u001b[39m measurementDynamics(x_true, uSharp) \u001b[39m+\u001b[39m sqrtm(R)\u001b[39m.\u001b[39mreal \u001b[39m@\u001b[39m np\u001b[39m.\u001b[39mrandom\u001b[39m.\u001b[39mrandn(ry, \u001b[39m1\u001b[39m)\n",
      "File \u001b[0;32m~/Documents/GitHub/Control-Importance-Distribution-Algorithm-CIDA-/Utilities/cida.py:49\u001b[0m, in \u001b[0;36mCIDA.RandomSearch\u001b[0;34m(self)\u001b[0m\n\u001b[1;32m     47\u001b[0m ControlSeqRec\u001b[39m.\u001b[39mappend(Control_seq)\n\u001b[1;32m     48\u001b[0m \u001b[39mfor\u001b[39;00m q \u001b[39min\u001b[39;00m \u001b[39mrange\u001b[39m(\u001b[39mself\u001b[39m\u001b[39m.\u001b[39mM):\n\u001b[0;32m---> 49\u001b[0m     xk2prime \u001b[39m=\u001b[39m \u001b[39mself\u001b[39;49m\u001b[39m.\u001b[39;49msample_xk_dblPrime(Control_seq)\n\u001b[1;32m     50\u001b[0m     cost, number_of_violations \u001b[39m=\u001b[39m CostAndConstraints(Control_seq, xk2prime)\n\u001b[1;32m     51\u001b[0m     ControlSeqCost[i] \u001b[39m+\u001b[39m\u001b[39m=\u001b[39m (cost \u001b[39m+\u001b[39m \n\u001b[1;32m     52\u001b[0m         \u001b[39mself\u001b[39m\u001b[39m.\u001b[39mLangrangeMultp \u001b[39m*\u001b[39m number_of_violations) \u001b[39m/\u001b[39m \u001b[39mself\u001b[39m\u001b[39m.\u001b[39mPred_Horizon_N\n",
      "File \u001b[0;32m~/Documents/GitHub/Control-Importance-Distribution-Algorithm-CIDA-/Utilities/cida.py:37\u001b[0m, in \u001b[0;36mCIDA.sample_xk_dblPrime\u001b[0;34m(self, Control_seq)\u001b[0m\n\u001b[1;32m     35\u001b[0m \u001b[39mfor\u001b[39;00m k \u001b[39min\u001b[39;00m \u001b[39mrange\u001b[39m(\u001b[39mself\u001b[39m\u001b[39m.\u001b[39mPred_Horizon_N):\n\u001b[1;32m     36\u001b[0m     u \u001b[39m=\u001b[39m Control_seq[:,k]\n\u001b[0;32m---> 37\u001b[0m     xk2prime[:,k\u001b[39m+\u001b[39m\u001b[39m1\u001b[39m]\u001b[39m=\u001b[39mstateDynamics(xk2prime[:,k],u,W2prime[:,k])\u001b[39m.\u001b[39msqueeze()  \n\u001b[1;32m     38\u001b[0m \u001b[39mreturn\u001b[39;00m xk2prime\n",
      "File \u001b[0;32m~/Documents/GitHub/Control-Importance-Distribution-Algorithm-CIDA-/Utilities/Dynamics_Constraints_Controller.py:17\u001b[0m, in \u001b[0;36mstateDynamics\u001b[0;34m(x, u, w)\u001b[0m\n\u001b[1;32m     15\u001b[0m f \u001b[39m=\u001b[39m np\u001b[39m.\u001b[39mzeros((rx,\u001b[39m1\u001b[39m))\n\u001b[1;32m     16\u001b[0m tau \u001b[39m=\u001b[39m \u001b[39m0.1\u001b[39m\n\u001b[0;32m---> 17\u001b[0m f[\u001b[39m0\u001b[39m] \u001b[39m=\u001b[39m x[\u001b[39m0\u001b[39m] \u001b[39m+\u001b[39m tau \u001b[39m*\u001b[39m V \u001b[39m*\u001b[39m np\u001b[39m.\u001b[39msin(u \u001b[39m*\u001b[39m tau \u001b[39m/\u001b[39m \u001b[39m2\u001b[39m) \u001b[39m/\u001b[39m (u \u001b[39m*\u001b[39m tau \u001b[39m/\u001b[39m \u001b[39m2\u001b[39m) \u001b[39m*\u001b[39m np\u001b[39m.\u001b[39;49mcos(x[\u001b[39m2\u001b[39;49m] \u001b[39m+\u001b[39;49m u \u001b[39m*\u001b[39;49m tau \u001b[39m/\u001b[39;49m \u001b[39m2\u001b[39;49m)\n\u001b[1;32m     18\u001b[0m f[\u001b[39m1\u001b[39m] \u001b[39m=\u001b[39m x[\u001b[39m1\u001b[39m] \u001b[39m+\u001b[39m tau \u001b[39m*\u001b[39m V \u001b[39m*\u001b[39m np\u001b[39m.\u001b[39msin(u \u001b[39m*\u001b[39m tau \u001b[39m/\u001b[39m \u001b[39m2\u001b[39m) \u001b[39m/\u001b[39m (u \u001b[39m*\u001b[39m tau \u001b[39m/\u001b[39m \u001b[39m2\u001b[39m) \u001b[39m*\u001b[39m np\u001b[39m.\u001b[39msin(x[\u001b[39m2\u001b[39m] \u001b[39m+\u001b[39m u \u001b[39m*\u001b[39m tau \u001b[39m/\u001b[39m \u001b[39m2\u001b[39m)\n\u001b[1;32m     19\u001b[0m f[\u001b[39m2\u001b[39m] \u001b[39m=\u001b[39m x[\u001b[39m2\u001b[39m] \u001b[39m+\u001b[39m tau \u001b[39m*\u001b[39m u\n",
      "\u001b[0;31mKeyboardInterrupt\u001b[0m: "
     ]
    },
    {
     "data": {
      "image/png": "[encoded data removed]",
      "text/plain": [
       "<Figure size 300x150 with 1 Axes>"
      ]
     },
     "metadata": {},
     "output_type": "display_data"
    }
   ],
   "source": [
    "fig, ax= plt.subplots(figsize=(FigWidth,FigHeight))\n",
    "Constraintsplot(ax)\n",
    "T=20\n",
    "\n",
    "x_true = cida.particles[:,random.sample(range(0, cida.num_particles), 1)]\n",
    "AlphaAchieved_cida = np.zeros((T+1,))\n",
    "ax.set_xlim((-15,15))\n",
    "ax.set_ylim((-15,15))\n",
    "for k in range(T):\n",
    "    print(k)\n",
    "    AlphaAchieved_cida[0] = cida.ViolationProb()\n",
    "    uSharp = cida.RandomSearch()\n",
    "    ax.plot(cida.particles[0,:],cida.particles[1,:],'o', markersize=1.1,color=list(colors.cnames)[k+22], zorder=2)\n",
    "    y = measurementDynamics(x_true, uSharp) + sqrtm(R).real @ np.random.randn(ry, 1)\n",
    "    print(y)\n",
    "    cida.Apply_PF(uSharp, y)\n",
    "    x_true = stateDynamics(x_true, uSharp, sqrtm(Q).real @ np.random.randn(rx,))\n",
    "\n",
    "plt.savefig('L_example_SS.pdf',bbox_inches =\"tight\")\n",
    "\n",
    "AlphaAchieved_cida[T]=cida.ViolationProb()   \n",
    "\n",
    "plt.show()\n",
    "\n",
    "\n"
   ]
  },
  {
   "cell_type": "code",
   "execution_count": null,
   "metadata": {},
   "outputs": [
    {
     "data": {
      "text/plain": [
       "-4.003210742283678"
      ]
     },
     "execution_count": 8,
     "metadata": {},
     "output_type": "execute_result"
    }
   ],
   "source": [
    "ME = y.squeeze() - cida.g(cida.particles[:, 4], uSharp).squeeze()\n",
    "-1/2 * ME @ np.linalg.inv(cida.R) @ ME"
   ]
  },
  {
   "cell_type": "code",
   "execution_count": null,
   "id": "97a16daa",
   "metadata": {},
   "outputs": [
    {
     "ename": "TypeError",
     "evalue": "Constraintsplot() missing 1 required positional argument: 'ax'",
     "output_type": "error",
     "traceback": [
      "\u001b[0;31m---------------------------------------------------------------------------\u001b[0m",
      "\u001b[0;31mTypeError\u001b[0m                                 Traceback (most recent call last)",
      "Cell \u001b[0;32mIn[9], line 2\u001b[0m\n\u001b[1;32m      1\u001b[0m \u001b[39m#With particle filter conditional mean\u001b[39;00m\n\u001b[0;32m----> 2\u001b[0m Constraintsplot()\n\u001b[1;32m      3\u001b[0m \u001b[39m#x=[2,4,4,-2,-2,2,2]\u001b[39;00m\n\u001b[1;32m      4\u001b[0m \u001b[39m#y=[4,4,-6,-6,-4,-4,4]\u001b[39;00m\n\u001b[1;32m      5\u001b[0m \u001b[39m#plt.plot(x,y)\u001b[39;00m\n\u001b[1;32m      6\u001b[0m plt\u001b[39m.\u001b[39mplot(\u001b[39m0\u001b[39m,\u001b[39m0\u001b[39m,\u001b[39m'\u001b[39m\u001b[39m.\u001b[39m\u001b[39m'\u001b[39m)\n",
      "\u001b[0;31mTypeError\u001b[0m: Constraintsplot() missing 1 required positional argument: 'ax'"
     ]
    }
   ],
   "source": [
    "#With particle filter conditional mean\n",
    "Constraintsplot()\n",
    "#x=[2,4,4,-2,-2,2,2]\n",
    "#y=[4,4,-6,-6,-4,-4,4]\n",
    "#plt.plot(x,y)\n",
    "plt.plot(0,0,'.')\n",
    "AlphaAchievedCM=np.full((1,T+1), np.nan)\n",
    "plt.axis('equal')\n",
    "plt.rc('xtick', labelsize=7) #fontsize of the x tick labels\n",
    "plt.rc('ytick', labelsize=7) #fontsize of the y tick labels\n",
    "plt.xlabel('$z_k$', fontsize=9)  \n",
    "plt.ylabel('$h_k$', fontsize=9) \n",
    "#plt.xlabel('$z_k^{\\prime\\prime}$')  \n",
    "#plt.ylabel('$h_k^{\\prime\\prime}$') \n",
    "Xi=Xi0\n",
    "x_true=np.full((2,T+1), np.nan)\n",
    "x_true[:,0]=(mu_x0+np.sqrt(var_x0)@np.random.randn(2, 1)).reshape(2,)\n",
    "for k in range(T):\n",
    "    AlphaAchievedCM[0,k]=AchievedAlpha(Xi)\n",
    "    x0mean=np.sum(Xi, axis=1)/L\n",
    "    plt.plot(Xi[0,:],Xi[1,:],'o', markersize=1.1,color=list(colors.cnames)[k+22],zorder=2)\n",
    "    plt.plot(x0mean[0],x0mean[1],marker='s',ms=4, color = 'black' ,mfc=list(colors.cnames)[k+22], zorder=3)\n",
    "    u=controller(x0mean)\n",
    "    Xiplus, gx=TimeUpdate(Xi,var_w,var_v,u)\n",
    "    y=x_true[0,k]+np.sqrt(var_v)[0,0]*np.random.randn()\n",
    "    disturbance_k=np.sqrt(var_w)@np.random.randn(2, 1)\n",
    "    x_true[:,k+1]=(dynamics(x_true[:,k],u,disturbance_k)).reshape(2,)\n",
    "    Likelihoods=Measurement_Likelihood(np.array([gx]),y,var_v[0,0])\n",
    "    Xi=Resampler(Xiplus,Likelihoods)\n",
    "\n",
    "AlphaAchievedCM[0,T]=AchievedAlpha(Xi)          \n",
    "plt.rc('xtick', labelsize=7) #fontsize of the x tick labels\n",
    "plt.rc('ytick', labelsize=7) #fontsize of the y tick labels\n",
    "plt.rc('axes', labelsize=7) #fontsize of the x and y labels\n",
    "plt.savefig('L_example_CM.pdf',bbox_inches =\"tight\")\n",
    "plt.show()\n",
    "\n"
   ]
  },
  {
   "cell_type": "code",
   "execution_count": null,
   "id": "9e9c0113",
   "metadata": {},
   "outputs": [
    {
     "data": {
      "image/png": "[encoded data removed]",
      "text/plain": [
       "<Figure size 300x150 with 1 Axes>"
      ]
     },
     "metadata": {},
     "output_type": "display_data"
    }
   ],
   "source": [
    "# Generating the violation rates figure\n",
    "plt.style.use('bmh')\n",
    "plt.figure(figsize=(3.0,1.5))\n",
    "plt.plot(AlphaAchieved[0,:]*100,'-or', linewidth=1, ms=4)\n",
    "plt.plot(AlphaAchievedCM[0,:]*100,'-.vb', linewidth=1, ms=4)\n",
    "plt.rc('xtick', labelsize=7) #fontsize of the x tick labels\n",
    "plt.rc('ytick', labelsize=7) #fontsize of the y tick labels\n",
    "\n",
    "plt.xlabel('$k$', fontsize=8)  \n",
    "plt.ylabel('$violation\\,\\%$', fontsize=8) \n",
    "plt.savefig('AchievedAlpha_StabilizingK.pdf',bbox_inches =\"tight\")\n",
    "\n",
    "plt.show()"
   ]
  }
 ],
 "metadata": {
  "kernelspec": {
   "display_name": "base",
   "language": "python",
   "name": "python3"
  },
  "language_info": {
   "codemirror_mode": {
    "name": "ipython",
    "version": 3
   },
   "file_extension": ".py",
   "mimetype": "text/x-python",
   "name": "python",
   "nbconvert_exporter": "python",
   "pygments_lexer": "ipython3",
   "version": "3.11.3"
  },
  "vscode": {
   "interpreter": {
    "hash": "463316916d8872a2236651019aa66390529406581b35dada557f41d2b033e2aa"
   }
  }
 },
 "nbformat": 4,
 "nbformat_minor": 5
}
