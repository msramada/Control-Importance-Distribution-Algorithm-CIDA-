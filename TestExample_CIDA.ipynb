{
 "cells": [
  {
   "cell_type": "code",
   "execution_count": 1,
   "id": "d891131c",
   "metadata": {},
   "outputs": [],
   "source": [
    "import numpy as np\n",
    "import random\n",
    "import matplotlib.pyplot as plt\n",
    "from matplotlib import style\n",
    "from matplotlib import style\n",
    "plt.style.use('bmh')\n",
    "plt.rc('xtick', labelsize=7) #fontsize of the x tick labels\n",
    "plt.rc('ytick', labelsize=7) #fontsize of the y tick labels\n",
    "import matplotlib.colors as colors\n",
    "import control\n",
    "from collections import deque\n",
    "import pickle\n",
    "from Utilities.ParticleFilter import *\n",
    "from Utilities.Dynamics_Constraints_Controller import *\n",
    "from Utilities.cida import CIDA\n",
    "import random\n",
    "from scipy.linalg import sqrtm\n",
    "\n",
    "saveFigs = True\n",
    "FigWidth = 3.0\n",
    "FigHeight = 1.5"
   ]
  },
  {
   "cell_type": "code",
   "execution_count": 2,
   "id": "4c8eb224",
   "metadata": {},
   "outputs": [
    {
     "data": {
      "text/plain": [
       "-3.1315926535897933"
      ]
     },
     "execution_count": 2,
     "metadata": {},
     "output_type": "execute_result"
    }
   ],
   "source": [
    "theta = -np.pi+0.01\n",
    "np.arctan2(np.sin(theta), np.cos(theta))"
   ]
  },
  {
   "cell_type": "code",
   "execution_count": 3,
   "id": "dd977bc4",
   "metadata": {},
   "outputs": [],
   "source": [
    "x0 = np.random.randn(rx,1)\n",
    "x0[0] = 10\n",
    "Cov0 = 0.5 * np.diag(np.ones(rx,))\n",
    "num_particles = 200\n",
    "Pred_Horizon_N = 5\n",
    "number_of_simulations = 50\n",
    "LangrangeMultp = 0.1\n",
    "cida =  CIDA(x0, Cov0, num_particles, stateDynamics, measurementDynamics, Q, R,\n",
    "                 Pred_Horizon_N, Controller, number_of_simulations, CostAndConstraints, LangrangeMultp)\n",
    "cida.initialize(x0, Cov0)"
   ]
  },
  {
   "attachments": {},
   "cell_type": "markdown",
   "id": "937434f7",
   "metadata": {},
   "source": [
    "RandomSearch method returns the desired control input, according to CIDA\n"
   ]
  },
  {
   "cell_type": "code",
   "execution_count": 4,
   "id": "815e3209",
   "metadata": {},
   "outputs": [
    {
     "data": {
      "text/plain": [
       "array([-0.78539816])"
      ]
     },
     "execution_count": 4,
     "metadata": {},
     "output_type": "execute_result"
    }
   ],
   "source": [
    "cida.RandomSearch()"
   ]
  },
  {
   "attachments": {},
   "cell_type": "markdown",
   "id": "778437cf",
   "metadata": {},
   "source": [
    "sampleAverage is an inherited method that returns the state conditional mean of the particle filter"
   ]
  },
  {
   "cell_type": "code",
   "execution_count": 5,
   "id": "95032eff",
   "metadata": {},
   "outputs": [
    {
     "data": {
      "text/plain": [
       "array([[10.0406091 ],\n",
       "       [ 0.91651127],\n",
       "       [ 0.09217523]])"
      ]
     },
     "execution_count": 5,
     "metadata": {},
     "output_type": "execute_result"
    }
   ],
   "source": [
    "cida.sampleAverage()"
   ]
  },
  {
   "cell_type": "code",
   "execution_count": 6,
   "id": "b53d8eda",
   "metadata": {},
   "outputs": [
    {
     "data": {
      "text/plain": [
       "array([0.87184938, 0.1963476 , 0.62111946, 0.13473528, 0.85697309,\n",
       "       0.        ])"
      ]
     },
     "execution_count": 6,
     "metadata": {},
     "output_type": "execute_result"
    }
   ],
   "source": [
    "A = np.random.rand(5,)\n",
    "C = np.random.rand(5,1)\n",
    "np.append(A, False)"
   ]
  },
  {
   "cell_type": "code",
   "execution_count": 7,
   "id": "b3f74c2c",
   "metadata": {},
   "outputs": [],
   "source": [
    "# A function to prepare the figure, its size, and plot the constraints set.\n",
    "\n",
    "def Constraintsplot(ax):\n",
    "    xc = np.linspace(-10,10,100)\n",
    "    yc1 = np.sqrt(10**2-xc**2)\n",
    "    yc2 = -np.sqrt(10**2-xc**2)\n",
    "    ax.set_xlabel('$x\\,\\, (m)$', fontsize=9)\n",
    "    ax.set_ylabel('$y\\,\\, (m)$', fontsize=9)\n",
    "    ax.plot(xc,yc1,'r')\n",
    "    ax.plot(xc,yc2,'r')\n",
    "    ax.axis('equal')\n",
    "    circle1 = plt.Circle((xs[0], ys[0]), rs[0], facecolor = 'blue')\n",
    "    circle2 = plt.Circle((xs[1], ys[1]), rs[1], color='blue')\n",
    "    circle3 = plt.Circle((xs[2], ys[2]), rs[2], color='blue')\n",
    "    ax.add_patch(circle1)\n",
    "    ax.add_patch(circle2)\n",
    "    ax.add_patch(circle3)\n",
    "    pass"
   ]
  },
  {
   "cell_type": "code",
   "execution_count": 8,
   "id": "0f48ca4e",
   "metadata": {
    "scrolled": false
   },
   "outputs": [
    {
     "name": "stdout",
     "output_type": "stream",
     "text": [
      "0\n",
      "[[8.71587371]\n",
      " [0.15997847]]\n",
      "1\n",
      "[[10.17171586]\n",
      " [ 0.28274229]]\n",
      "2\n",
      "[[11.45468333]\n",
      " [ 1.57768989]]\n",
      "3\n",
      "[[11.04352749]\n",
      " [ 3.04799248]]\n",
      "4\n",
      "[[12.85475011]\n",
      " [ 4.51990336]]\n"
     ]
    },
    {
     "data": {
      "image/png": "[encoded data removed]",
      "text/plain": [
       "<Figure size 300x150 with 1 Axes>"
      ]
     },
     "metadata": {},
     "output_type": "display_data"
    }
   ],
   "source": [
    "fig, ax= plt.subplots(figsize=(FigWidth,FigHeight))\n",
    "Constraintsplot(ax)\n",
    "T=5\n",
    "\n",
    "x_true = cida.particles[:,random.sample(range(0, cida.num_particles), 1)]\n",
    "AlphaAchieved_cida = np.zeros((T+1,))\n",
    "ax.set_xlim((-15,15))\n",
    "ax.set_ylim((-15,15))\n",
    "for k in range(T):\n",
    "    print(k)\n",
    "    AlphaAchieved_cida[0] = cida.ViolationProb()\n",
    "    uSharp = cida.RandomSearch()\n",
    "    ax.plot(cida.particles[0,:],cida.particles[1,:],'o', markersize=1.1,color=list(colors.cnames)[k+22], zorder=2)\n",
    "    y = measurementDynamics(x_true, uSharp) + sqrtm(R).real @ np.random.randn(ry, 1)\n",
    "    print(y)\n",
    "    cida.Apply_PF(uSharp, y)\n",
    "    x_true = stateDynamics(x_true, uSharp, sqrtm(Q).real @ np.random.randn(rx,))\n",
    "\n",
    "plt.savefig('L_example_SS.pdf',bbox_inches =\"tight\")\n",
    "\n",
    "AlphaAchieved_cida[T]=cida.ViolationProb()   \n",
    "\n",
    "plt.show()\n",
    "\n",
    "\n"
   ]
  },
  {
   "cell_type": "code",
   "execution_count": 9,
   "metadata": {},
   "outputs": [
    {
     "data": {
      "text/plain": [
       "-4.183650668840669"
      ]
     },
     "execution_count": 9,
     "metadata": {},
     "output_type": "execute_result"
    }
   ],
   "source": [
    "ME = y.squeeze() - cida.g(cida.particles[:, 4], uSharp).squeeze()\n",
    "-1/2 * ME @ np.linalg.inv(cida.R) @ ME"
   ]
  },
  {
   "cell_type": "code",
   "execution_count": 10,
   "id": "97a16daa",
   "metadata": {},
   "outputs": [
    {
     "ename": "TypeError",
     "evalue": "Constraintsplot() missing 1 required positional argument: 'ax'",
     "output_type": "error",
     "traceback": [
      "\u001b[1;31m---------------------------------------------------------------------------\u001b[0m",
      "\u001b[1;31mTypeError\u001b[0m                                 Traceback (most recent call last)",
      "Cell \u001b[1;32mIn[10], line 2\u001b[0m\n\u001b[0;32m      1\u001b[0m \u001b[39m#With particle filter conditional mean\u001b[39;00m\n\u001b[1;32m----> 2\u001b[0m Constraintsplot()\n\u001b[0;32m      3\u001b[0m \u001b[39m#x=[2,4,4,-2,-2,2,2]\u001b[39;00m\n\u001b[0;32m      4\u001b[0m \u001b[39m#y=[4,4,-6,-6,-4,-4,4]\u001b[39;00m\n\u001b[0;32m      5\u001b[0m \u001b[39m#plt.plot(x,y)\u001b[39;00m\n\u001b[0;32m      6\u001b[0m plt\u001b[39m.\u001b[39mplot(\u001b[39m0\u001b[39m,\u001b[39m0\u001b[39m,\u001b[39m'\u001b[39m\u001b[39m.\u001b[39m\u001b[39m'\u001b[39m)\n",
      "\u001b[1;31mTypeError\u001b[0m: Constraintsplot() missing 1 required positional argument: 'ax'"
     ]
    }
   ],
   "source": [
    "#With particle filter conditional mean\n",
    "Constraintsplot()\n",
    "#x=[2,4,4,-2,-2,2,2]\n",
    "#y=[4,4,-6,-6,-4,-4,4]\n",
    "#plt.plot(x,y)\n",
    "plt.plot(0,0,'.')\n",
    "AlphaAchievedCM=np.full((1,T+1), np.nan)\n",
    "plt.axis('equal')\n",
    "plt.rc('xtick', labelsize=7) #fontsize of the x tick labels\n",
    "plt.rc('ytick', labelsize=7) #fontsize of the y tick labels\n",
    "plt.xlabel('$z_k$', fontsize=9)  \n",
    "plt.ylabel('$h_k$', fontsize=9) \n",
    "#plt.xlabel('$z_k^{\\prime\\prime}$')  \n",
    "#plt.ylabel('$h_k^{\\prime\\prime}$') \n",
    "Xi=Xi0\n",
    "x_true=np.full((2,T+1), np.nan)\n",
    "x_true[:,0]=(mu_x0+np.sqrt(var_x0)@np.random.randn(2, 1)).reshape(2,)\n",
    "for k in range(T):\n",
    "    AlphaAchievedCM[0,k]=AchievedAlpha(Xi)\n",
    "    x0mean=np.sum(Xi, axis=1)/L\n",
    "    plt.plot(Xi[0,:],Xi[1,:],'o', markersize=1.1,color=list(colors.cnames)[k+22],zorder=2)\n",
    "    plt.plot(x0mean[0],x0mean[1],marker='s',ms=4, color = 'black' ,mfc=list(colors.cnames)[k+22], zorder=3)\n",
    "    u=controller(x0mean)\n",
    "    Xiplus, gx=TimeUpdate(Xi,var_w,var_v,u)\n",
    "    y=x_true[0,k]+np.sqrt(var_v)[0,0]*np.random.randn()\n",
    "    disturbance_k=np.sqrt(var_w)@np.random.randn(2, 1)\n",
    "    x_true[:,k+1]=(dynamics(x_true[:,k],u,disturbance_k)).reshape(2,)\n",
    "    Likelihoods=Measurement_Likelihood(np.array([gx]),y,var_v[0,0])\n",
    "    Xi=Resampler(Xiplus,Likelihoods)\n",
    "\n",
    "AlphaAchievedCM[0,T]=AchievedAlpha(Xi)          \n",
    "plt.rc('xtick', labelsize=7) #fontsize of the x tick labels\n",
    "plt.rc('ytick', labelsize=7) #fontsize of the y tick labels\n",
    "plt.rc('axes', labelsize=7) #fontsize of the x and y labels\n",
    "plt.savefig('L_example_CM.pdf',bbox_inches =\"tight\")\n",
    "plt.show()\n",
    "\n"
   ]
  },
  {
   "cell_type": "code",
   "execution_count": null,
   "id": "9e9c0113",
   "metadata": {},
   "outputs": [
    {
     "data": {
      "image/png": "[encoded data removed]",
      "text/plain": [
       "<Figure size 300x150 with 1 Axes>"
      ]
     },
     "metadata": {},
     "output_type": "display_data"
    }
   ],
   "source": [
    "# Generating the violation rates figure\n",
    "plt.style.use('bmh')\n",
    "plt.figure(figsize=(3.0,1.5))\n",
    "plt.plot(AlphaAchieved[0,:]*100,'-or', linewidth=1, ms=4)\n",
    "plt.plot(AlphaAchievedCM[0,:]*100,'-.vb', linewidth=1, ms=4)\n",
    "plt.rc('xtick', labelsize=7) #fontsize of the x tick labels\n",
    "plt.rc('ytick', labelsize=7) #fontsize of the y tick labels\n",
    "\n",
    "plt.xlabel('$k$', fontsize=8)  \n",
    "plt.ylabel('$violation\\,\\%$', fontsize=8) \n",
    "plt.savefig('AchievedAlpha_StabilizingK.pdf',bbox_inches =\"tight\")\n",
    "\n",
    "plt.show()"
   ]
  }
 ],
 "metadata": {
  "kernelspec": {
   "display_name": "base",
   "language": "python",
   "name": "python3"
  },
  "language_info": {
   "codemirror_mode": {
    "name": "ipython",
    "version": 3
   },
   "file_extension": ".py",
   "mimetype": "text/x-python",
   "name": "python",
   "nbconvert_exporter": "python",
   "pygments_lexer": "ipython3",
   "version": "3.9.13"
  },
  "vscode": {
   "interpreter": {
    "hash": "463316916d8872a2236651019aa66390529406581b35dada557f41d2b033e2aa"
   }
  }
 },
 "nbformat": 4,
 "nbformat_minor": 5
}
